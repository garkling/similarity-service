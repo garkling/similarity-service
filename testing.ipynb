{
 "cells": [
  {
   "metadata": {},
   "cell_type": "code",
   "source": [
    "import shutil\n",
    "import sys\n",
    "import os\n",
    "\n",
    "from langchain_experimental.text_splitter import SemanticChunker\n",
    "\n",
    "# Construct the path to the 'src' directory\n",
    "src_path = os.path.join(os.getcwd(),  'src')\n",
    "\n",
    "# Add this path to sys.path if it's not already included\n",
    "if src_path not in sys.path:\n",
    "    sys.path.append(src_path)\n",
    "\n",
    "print(\"Updated Python path:\", sys.path)\n",
    "\n",
    "# Disable bytecode generation\n",
    "sys.dont_write_bytecode = True\n",
    "os.environ['PYTHONDONTWRITEBYTECODE'] = \"1\"\n",
    "\n",
    "def ensure_no_pycache(path):\n",
    "    sys.dont_write_bytecode = True  # Disable the creation of .pyc files\n",
    "    for dirpath, dirnames, filenames in os.walk(path):\n",
    "        pycache_path = os.path.join(dirpath, '__pycache__')\n",
    "        if os.path.exists(pycache_path):\n",
    "            shutil.rmtree(pycache_path)\n",
    "            print(f\"Deleted {pycache_path}\")\n",
    "\n",
    "from dotenv import load_dotenv\n",
    "import os\n",
    "\n",
    "dotenv_path = os.path.join('.env')\n",
    "if os.path.exists(dotenv_path):\n",
    "    load_dotenv()\n",
    "\n",
    "ensure_no_pycache('../app')"
   ],
   "id": "a4b3a40cf0196b5",
   "outputs": [],
   "execution_count": null
  },
  {
   "metadata": {},
   "cell_type": "code",
   "source": [
    "import re\n",
    "\n",
    "import fitz\n",
    "import tiktoken\n",
    "# from llama_index.core.text_splitter import SentenceSplitter\n",
    "from langchain_experimental.text_splitter import SemanticChunker\n",
    "\n",
    "from src.utils.llm import LLM\n",
    "from src.modules.knowledge_base.kb_service import KBService\n",
    "from src.modules.knowledge_base.kb_repository import KBRepository\n",
    "from src.modules.embedding_service import EmbeddingService\n",
    "from src.modules.pdf_parser import PdfParser\n",
    "from src.modules.text_cleaning_service import CleaningService\n",
    "from src.modules.text_partition_service import TextPartitionService"
   ],
   "id": "6d7cd652290fc8cf",
   "outputs": [],
   "execution_count": null
  },
  {
   "metadata": {},
   "cell_type": "code",
   "outputs": [],
   "execution_count": null,
   "source": [
    "query_examples = [\n",
    "    \"AI Development\",\n",
    "    \"Cosine similarity\",\n",
    "    \"Best embedding models\"\n",
    "]"
   ],
   "id": "ad8708bf3073d0b6"
  },
  {
   "metadata": {},
   "cell_type": "code",
   "source": [
    "def evaluate_tokens(model, text):\n",
    "        encoder = tiktoken.get_encoding(\"o200k_base\")\n",
    "        encoder = tiktoken.encoding_for_model(model)\n",
    "        \n",
    "        tokens = encoder.encode(text)\n",
    "        return len(tokens)\n",
    "        "
   ],
   "id": "cdfb540eee9c5ed4",
   "outputs": [],
   "execution_count": null
  },
  {
   "cell_type": "code",
   "id": "initial_id",
   "metadata": {
    "collapsed": true
   },
   "source": "LLM.get_model()",
   "outputs": [],
   "execution_count": null
  },
  {
   "metadata": {},
   "cell_type": "code",
   "source": [
    "pdf_parser = PdfParser()\n",
    "text_cleaner = CleaningService()\n",
    "\n",
    "pages = await pdf_parser.process('ai_adoption_framework_whitepaper.pdf', start_page=2)\n",
    "page_list = list(pages)\n",
    "pages = await pdf_parser.process('ai_adoption_framework_whitepaper.pdf', start_page=2)"
   ],
   "id": "b2ed2aede81b1875",
   "outputs": [],
   "execution_count": null
  },
  {
   "metadata": {},
   "cell_type": "code",
   "source": [
    "page = page_list[15]\n",
    "text = page.content\n",
    "text = text_cleaner.clean(text)\n",
    "repr(text)"
   ],
   "id": "8af7a5d7c0b1a780",
   "outputs": [],
   "execution_count": null
  },
  {
   "metadata": {},
   "cell_type": "code",
   "source": [
    "partitioner = TextPartitionService()\n",
    "chunks = list(partitioner.split_by_sentences(text))\n",
    "print(chunks)"
   ],
   "id": "26fc09329cd3e513",
   "outputs": [],
   "execution_count": null
  },
  {
   "metadata": {},
   "cell_type": "code",
   "source": [
    "partitioner = TextPartitionService()\n",
    "chunks = list(partitioner.split_semantically(text))\n",
    "print(chunks)"
   ],
   "id": "cebb7d5851e1be8",
   "outputs": [],
   "execution_count": null
  },
  {
   "metadata": {},
   "cell_type": "code",
   "source": [
    "text_cleaner = CleaningService()\n",
    "text_splitter = TextPartitionService()\n",
    "embedder = EmbeddingService()\n",
    "pdf_parser = PdfParser()\n",
    "repo = KBRepository()\n",
    "kb = KBService(pdf_parser=pdf_parser,\n",
    "               text_cleaner=text_cleaner,\n",
    "               text_partitioner=text_splitter,\n",
    "               embedder=embedder, \n",
    "               repository=repo\n",
    "               )"
   ],
   "id": "ddfb139386d0810",
   "outputs": [],
   "execution_count": null
  },
  {
   "metadata": {},
   "cell_type": "code",
   "source": [
    "docs = await kb._create_documents('ai_adoption_framework_whitepaper.pdf', start_page=2)\n",
    "docs\n"
   ],
   "id": "ed639d2f7254f3c6",
   "outputs": [],
   "execution_count": null
  },
  {
   "metadata": {},
   "cell_type": "code",
   "source": "kb.truncate()",
   "id": "86d262565f0c2a88",
   "outputs": [],
   "execution_count": null
  },
  {
   "metadata": {},
   "cell_type": "code",
   "source": [
    "res = await kb.create('ai_adoption_framework_whitepaper.pdf')\n",
    "res"
   ],
   "id": "822772a78774bf31",
   "outputs": [],
   "execution_count": null
  },
  {
   "metadata": {},
   "cell_type": "code",
   "source": [
    "res = await kb.search(\"Hero manager\")\n",
    "res"
   ],
   "id": "8f830f686e9ec4df",
   "outputs": [],
   "execution_count": null
  }
 ],
 "metadata": {
  "kernelspec": {
   "display_name": "Python 3",
   "language": "python",
   "name": "python3"
  },
  "language_info": {
   "codemirror_mode": {
    "name": "ipython",
    "version": 2
   },
   "file_extension": ".py",
   "mimetype": "text/x-python",
   "name": "python",
   "nbconvert_exporter": "python",
   "pygments_lexer": "ipython2",
   "version": "2.7.6"
  }
 },
 "nbformat": 4,
 "nbformat_minor": 5
}
